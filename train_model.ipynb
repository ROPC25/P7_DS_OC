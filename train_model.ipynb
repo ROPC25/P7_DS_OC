{
 "cells": [
  {
   "cell_type": "code",
   "execution_count": 2,
   "id": "035176fd-c598-42c0-a8ef-fa409abd828f",
   "metadata": {},
   "outputs": [
    {
     "name": "stdout",
     "output_type": "stream",
     "text": [
      "✅ Modèle entraîné et sauvegardé.\n"
     ]
    }
   ],
   "source": [
    "# train_model\n",
    "from sklearn.datasets import load_iris\n",
    "from sklearn.linear_model import LogisticRegression\n",
    "from sklearn.model_selection import train_test_split\n",
    "from sklearn.preprocessing import StandardScaler\n",
    "from sklearn.pipeline import Pipeline\n",
    "import joblib\n",
    "\n",
    "# Charger les données\n",
    "data = load_iris()\n",
    "X = data.data\n",
    "y = (data.target == 0).astype(int)  # 1 si Setosa, sinon 0\n",
    "\n",
    "# Créer pipeline avec standardisation + modèle\n",
    "model = Pipeline([\n",
    "    ('scaler', StandardScaler()),\n",
    "    ('clf', LogisticRegression())\n",
    "])\n",
    "\n",
    "# Entraîner\n",
    "model.fit(X, y)\n",
    "\n",
    "# Sauvegarder\n",
    "joblib.dump(model, 'model.joblib')\n",
    "print(\"✅ Modèle entraîné et sauvegardé.\")\n"
   ]
  },
  {
   "cell_type": "code",
   "execution_count": 1,
   "id": "965713cb-1e69-4343-84aa-3ebd641a8d93",
   "metadata": {},
   "outputs": [
    {
     "data": {
      "text/plain": [
       "'\\ncurl -X POST https://<your-render-url>/predict      -H \"Content-Type: application/json\"      -d \\'{\"features\": [5.1, 3.5, 1.4, 0.2]}\\'\\n'"
      ]
     },
     "execution_count": 1,
     "metadata": {},
     "output_type": "execute_result"
    }
   ],
   "source": [
    "'''\n",
    "curl -X POST https://<your-render-url>/predict \\\n",
    "     -H \"Content-Type: application/json\" \\\n",
    "     -d '{\"features\": [5.1, 3.5, 1.4, 0.2]}'\n",
    "'''"
   ]
  },
  {
   "cell_type": "code",
   "execution_count": 10,
   "id": "e09acc49-00c8-4fbc-81d1-ad946b79b5ff",
   "metadata": {},
   "outputs": [
    {
     "name": "stdout",
     "output_type": "stream",
     "text": [
      "{'prediction': 1, 'probability_setosa': 0.9856641562850706}\n"
     ]
    }
   ],
   "source": [
    "import requests\n",
    "\n",
    "res = requests.post(\n",
    "    \"http://localhost:10000/predict\",\n",
    "    json={\"features\": [5.1, 3.5, 1.4, 0.2]}\n",
    ")\n",
    "\n",
    "print(res.json())"
   ]
  }
 ],
 "metadata": {
  "kernelspec": {
   "display_name": "Python 3 (ipykernel)",
   "language": "python",
   "name": "python3"
  },
  "language_info": {
   "codemirror_mode": {
    "name": "ipython",
    "version": 3
   },
   "file_extension": ".py",
   "mimetype": "text/x-python",
   "name": "python",
   "nbconvert_exporter": "python",
   "pygments_lexer": "ipython3",
   "version": "3.10.16"
  }
 },
 "nbformat": 4,
 "nbformat_minor": 5
}
